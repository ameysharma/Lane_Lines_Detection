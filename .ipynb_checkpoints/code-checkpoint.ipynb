{
 "cells": [
  {
   "cell_type": "markdown",
   "metadata": {},
   "source": [
    "#### Importing Libraries required"
   ]
  },
  {
   "cell_type": "code",
   "execution_count": 1,
   "metadata": {
    "collapsed": true
   },
   "outputs": [],
   "source": [
    "import matplotlib.pyplot as plt\n",
    "import matplotlib.image as mpimg\n",
    "import numpy as np\n",
    "import cv2\n"
   ]
  },
  {
   "cell_type": "markdown",
   "metadata": {
    "collapsed": true
   },
   "source": [
    "#### Calling the main function where all the operations will be performed"
   ]
  },
  {
   "cell_type": "code",
   "execution_count": 2,
   "metadata": {
    "collapsed": true
   },
   "outputs": [],
   "source": [
    "def main():\n",
    "    value=input('Which file do you want to process for lane lines detection.Enter [image] for images and [video] for videos')\n",
    "    if (value=='image' or value=='IMAGE' or value=='Image'):\n",
    "        image()\n",
    "    elif(value=='video' or value=='VIDEO' or value=='Video'):\n",
    "        video()\n",
    "    else:\n",
    "        print('Wrong Input')\n",
    "        exit()\n",
    "    "
   ]
  },
  {
   "cell_type": "markdown",
   "metadata": {},
   "source": [
    "#### This functions is the main function to perform image operations"
   ]
  },
  {
   "cell_type": "code",
   "execution_count": 3,
   "metadata": {
    "collapsed": true
   },
   "outputs": [],
   "source": [
    "def image():\n",
    "    image=collect_image()\n",
    "    if (image==0):\n",
    "        print('Wrong Input')\n",
    "        main()\n",
    "    image=mpimg.imread(image)\n",
    "    image=image_process(image)\n",
    "    plt.imshow(image)\n",
    "    plt.show()\n",
    "    main()"
   ]
  },
  {
   "cell_type": "markdown",
   "metadata": {},
   "source": [
    "#### This function below perform the image processing process to draw the lines on images"
   ]
  },
  {
   "cell_type": "code",
   "execution_count": 4,
   "metadata": {
    "collapsed": true
   },
   "outputs": [],
   "source": [
    "def image_process(image):\n",
    "    #GuassianBlur filter\n",
    "    gray=cv2.cvtColor(image,cv2.COLOR_RGB2GRAY)\n",
    "    kernel_size =5\n",
    "    blur_gray=cv2.GaussianBlur(gray,(kernel_size,kernel_size),0)\n",
    "    \n",
    "    #canny filter\n",
    "    \n",
    "    low_threshold =50\n",
    "    high_threshold =150\n",
    "    edges = cv2.Canny(blur_gray, low_threshold, high_threshold)\n",
    "    \n",
    "    #masking\n",
    "    mask = np.zeros_like(edges)   \n",
    "    ignore_mask_color = 255   \n",
    "   \n",
    "    imshape = image.shape\n",
    "    vertices = np.array([[(0,imshape[0]),(475,290), (490,290), (imshape[1],imshape[0])]], dtype=np.int32)\n",
    "    cv2.fillPoly(mask, vertices, ignore_mask_color)\n",
    "    masked_edges = cv2.bitwise_and(edges, mask)\n",
    "    #houghlines creation\n",
    "    rho = 1\n",
    "    theta = np.pi*2/180\n",
    "    threshold = 1\n",
    "    min_line_length = 10\n",
    "    max_line_gap = 2\n",
    "    line_image = np.copy(image)\n",
    "    lines = cv2.HoughLinesP(masked_edges, rho, theta, threshold, np.array([]),\n",
    "                            min_line_length, max_line_gap)\n",
    "    #iterating over the outline\n",
    "    for lines in lines:\n",
    "        for x1,y1,x2,y2 in lines:\n",
    "            cv2.line(line_image,(x1,y1),(x2,y2),(255,0,0),10)\n",
    "            #creating color binary image to combine with \n",
    "    color_edges = np.dstack((gray, gray, gray)) \n",
    "    #Drawing the lines on the edge image\n",
    "    combo = cv2.addWeighted(color_edges, 0.8, line_image, 1, 0) \n",
    "    return combo"
   ]
  },
  {
   "cell_type": "markdown",
   "metadata": {},
   "source": [
    "#### This function collects the image from the directory"
   ]
  },
  {
   "cell_type": "code",
   "execution_count": 5,
   "metadata": {
    "collapsed": true
   },
   "outputs": [],
   "source": [
    "def collect_image():\n",
    "    path1='/Users/ameyr/OneDrive/Documents/GitHub/Lane_Lines_Detection/test_images\\solidWhiteCurve.jpg'\n",
    "    path2='/Users/ameyr/OneDrive/Documents/GitHub/Lane_Lines_Detection/test_images\\solidWhiteRight.jpg'\n",
    "    path3='/Users/ameyr/OneDrive/Documents/GitHub/Lane_Lines_Detection/test_images\\solidYellowCurve.jpg'\n",
    "    path4='/Users/ameyr/OneDrive/Documents/GitHub/Lane_Lines_Detection/test_images\\solidYellowCurve2.jpg'\n",
    "    path5='/Users/ameyr/OneDrive/Documents/GitHub/Lane_Lines_Detection/test_images\\solidYellowLeft.jpg'\n",
    "    path6='/Users/ameyr/OneDrive/Documents/GitHub/Lane_Lines_Detection/test_images\\whiteCarLaneSwitch.jpg'\n",
    "    \n",
    "    value= input('Choose image file from 1 to 6 paths')\n",
    "    \n",
    "    if (value=='1'):\n",
    "        return path1\n",
    "    elif(value=='2'):\n",
    "        return path2\n",
    "    elif(value=='3'):\n",
    "        return path3\n",
    "    elif(value=='4'):\n",
    "        return path4\n",
    "    elif(value=='5'):\n",
    "        return path5\n",
    "    elif(value=='6'):\n",
    "        return path6\n",
    "    else:\n",
    "        return 0\n",
    "  \n",
    "                \n",
    "    "
   ]
  },
  {
   "cell_type": "markdown",
   "metadata": {},
   "source": [
    "#### This functions is the main video operator function"
   ]
  },
  {
   "cell_type": "code",
   "execution_count": 6,
   "metadata": {
    "collapsed": true
   },
   "outputs": [],
   "source": [
    "def video():\n",
    "    video = collect_video()#function that collect videos\n",
    "    \n",
    "    if (video==0):\n",
    "        print(\"Sorry wrong input\")\n",
    "    else:\n",
    "        video=video_compress(video)\n",
    "        cv2.destroyAllWindows()\n",
    "        main()\n",
    "        \n",
    "        \n",
    "    \n",
    "   \n",
    "    "
   ]
  },
  {
   "cell_type": "markdown",
   "metadata": {},
   "source": [
    "#### This Function Collects the video from directory "
   ]
  },
  {
   "cell_type": "code",
   "execution_count": 7,
   "metadata": {
    "collapsed": true
   },
   "outputs": [],
   "source": [
    "def collect_video():\n",
    "    path1='/Users/ameyr/OneDrive/Documents/GitHub/Lane_Lines_Detection/test_videos/challenge.mp4'\n",
    "    path2='/Users/ameyr/OneDrive/Documents/GitHub/Lane_Lines_Detection/test_videos/solidWhiteRight.mp4'\n",
    "    path3='/Users/ameyr/OneDrive/Documents/GitHub/Lane_Lines_Detection/test_videos/solidYellowLeft.mp4'\n",
    "    path4='/Users/ameyr/OneDrive/Documents/GitHub/Lane_Lines_Detection/test_videos/night_road.mp4'\n",
    "    print('Following Videos are available.\\n' 'Video-Challenge('+ path1 +')\\nVideo-Solid White Right('+path2+ \\\n",
    "          ')\\nVideo-Solid Yellow Left('+path3+')\\n Night Roag('+ path4 +')')\n",
    "    value=input('Choose video in the following format in the form of input one,two,three or four')\n",
    "    if (value=='one'):\n",
    "        return path1\n",
    "    elif(value=='two'):\n",
    "        return path2\n",
    "    elif(value=='three'):\n",
    "        return path3\n",
    "    elif(value=='four'):\n",
    "        return path4\n",
    "    else:\n",
    "        return 0\n",
    "  \n",
    "    "
   ]
  },
  {
   "cell_type": "markdown",
   "metadata": {},
   "source": [
    "#### This functions reads the video and performs operations on video"
   ]
  },
  {
   "cell_type": "code",
   "execution_count": 8,
   "metadata": {
    "collapsed": true
   },
   "outputs": [],
   "source": [
    "def video_compress(video):\n",
    "    video = cv2.VideoCapture(video)   \n",
    "    video.set(3,320)\n",
    "    video.set(4,240)\n",
    "    \n",
    "    \n",
    "    # loop over frames from the video file stream\n",
    "    while(video.isOpened()):\n",
    "        # grab the frame from the threaded video file stream\n",
    "        (grabbed, frame) = video.read()\n",
    "        # if the frame was not grabbed, then we have reached the end of the stream\n",
    "        if (grabbed==0):\n",
    "            break\n",
    "          \n",
    "        gray = cv2.cvtColor(frame, cv2.COLOR_BGR2GRAY)\n",
    "       \n",
    "        #Processing video function calling\n",
    "        value = image_processing(gray,frame)\n",
    "        \n",
    "        cv2.imshow('compressed',value)\n",
    "        key_pressed =cv2.waitKey(1)\n",
    "        if key_pressed == 27:\n",
    "            break\n",
    "    cv2.destroyAllWindows()             \n",
    "    return value\n",
    "      \n",
    "       \n",
    "        \n",
    "    "
   ]
  },
  {
   "cell_type": "markdown",
   "metadata": {},
   "source": [
    "#### Gaussain Blur Function"
   ]
  },
  {
   "cell_type": "code",
   "execution_count": 9,
   "metadata": {
    "collapsed": true
   },
   "outputs": [],
   "source": [
    "def G_blur(gray):\n",
    "    kernel_size=3\n",
    "    blur_gray=cv2.GaussianBlur(gray,(kernel_size,kernel_size),0)\n",
    "    return blur_gray"
   ]
  },
  {
   "cell_type": "markdown",
   "metadata": {},
   "source": [
    "#### Canny Blur Function"
   ]
  },
  {
   "cell_type": "code",
   "execution_count": 10,
   "metadata": {
    "collapsed": true
   },
   "outputs": [],
   "source": [
    "def Canny(blur_gray):\n",
    "    low_threshold =50\n",
    "    high_threshold =150\n",
    "    edges = cv2.Canny(blur_gray, low_threshold, high_threshold)\n",
    "    return edges\n",
    "    "
   ]
  },
  {
   "cell_type": "markdown",
   "metadata": {},
   "source": [
    "#### Masking Edges  Function"
   ]
  },
  {
   "cell_type": "code",
   "execution_count": 11,
   "metadata": {
    "collapsed": true
   },
   "outputs": [],
   "source": [
    "def Mask(edges,gray):\n",
    "    mask = np.zeros_like(edges)\n",
    "    imshape = gray.shape\n",
    "    if (len(imshape) > 2): \n",
    "        channel_count = img.shape[2] \n",
    "        # i.e. 3 or 4 depending on your image\n",
    "        ignore_mask_color = (255,) * channel_count \n",
    "    else:\n",
    "        ignore_mask_color = 255\n",
    "    # This time we are defining a four sided polygon to mask\n",
    "    vertices = np.array([[(0,imshape[0]),(475,290), (490,290), (900,imshape[0])]], dtype=np.int32)\n",
    "\n",
    "    cv2.fillPoly(mask, vertices, ignore_mask_color)\n",
    "    masked_edges = cv2.bitwise_and(edges, mask)\n",
    "    return masked_edges\n",
    " \n",
    "    "
   ]
  },
  {
   "cell_type": "markdown",
   "metadata": {},
   "source": [
    "#### Hough Transformation Functions"
   ]
  },
  {
   "cell_type": "code",
   "execution_count": 12,
   "metadata": {
    "collapsed": true,
    "scrolled": true
   },
   "outputs": [],
   "source": [
    "def Hough(masked_edges,frame,gray):\n",
    "    rho = 1\n",
    "    theta = np.pi/180\n",
    "    threshold = 30\n",
    "    min_line_length =100\n",
    "    max_line_gap =160\n",
    "    line_image = np.copy(frame)\n",
    "    lines = cv2.HoughLinesP(masked_edges, rho, theta, threshold, np.array([]),\n",
    "                            min_line_length, max_line_gap)\n",
    "    \n",
    "    return lines"
   ]
  },
  {
   "cell_type": "markdown",
   "metadata": {},
   "source": [
    "#### Drawing Lines on the Video Frames"
   ]
  },
  {
   "cell_type": "code",
   "execution_count": 13,
   "metadata": {
    "collapsed": true
   },
   "outputs": [],
   "source": [
    "def draw_lines(img,lines,color,thickness,gray):\n",
    "    if lines is None:\n",
    "        return\n",
    "    \n",
    "    if len(lines) == 0:\n",
    "        return\n",
    "    \n",
    "    draw_right = True\n",
    "    draw_left = True\n",
    "    \n",
    "    # Find slopes of all lines\n",
    "    # But only care about lines where abs(slope) > slope_threshold\n",
    "    slope_threshold = 0.4\n",
    "    slopes = []\n",
    "    new_lines = []\n",
    "    #Initializing the for loop \n",
    "    for line in lines:\n",
    "        x1, y1, x2, y2 =line[0]  # line = [[x1, y1, x2, y2]]\n",
    "        # Calculating slope\n",
    "        if (x2 - x1 == 0.):\n",
    "            slope = (999.)  #Parallel Line with infinite slope\n",
    "        else:\n",
    "            #Equation of slope\n",
    "            slope = (y2 - y1) / (x2 - x1)\n",
    "            # Filter lines based on slope\n",
    "        if abs(slope) > slope_threshold:\n",
    "            slopes.append(slope)\n",
    "            new_lines.append(line)\n",
    "    lines = new_lines\n",
    "    # Split lines into right_lines and left_lines, representing the right and left lane lines\n",
    "    # Right/left lane lines must have positive/negative slope, and be on the right/left half of the image\n",
    "    right_lines = []\n",
    "    left_lines = []\n",
    "    for i, line in enumerate(lines):\n",
    "        x1, y1, x2, y2 =line[0]\n",
    "        img_x_center = (img.shape[1] / 2)  # x coordinate of center of image\n",
    "        if slopes[i] > 0 and x1 > img_x_center and x2 > img_x_center:\n",
    "            right_lines.append(line)\n",
    "        elif slopes[i] < 0 and x1 < img_x_center and x2 < img_x_center:\n",
    "            left_lines.append(line)\n",
    "        # Running linear regression to find best fit line for right and left lane lines\n",
    "        \n",
    "        #   Right Lane Lines Creation\n",
    "        \n",
    "        \n",
    "        right_lines_x = []\n",
    "        right_lines_y = []\n",
    "        for line in right_lines:\n",
    "            x1, y1, x2, y2 = line[0]\n",
    "            right_lines_x.append(x1)#Adding the values in the array right_lines_x\n",
    "            right_lines_x.append(x2)#Adding the values in the array right_lines_x\n",
    "            right_lines_y.append(y1)#Adding the values in the array right_lines_y\n",
    "            right_lines_y.append(y2)#Adding the values in the array right_lines_y\n",
    "        if len(right_lines_x) > 0:\n",
    "            right_m, right_b = np.polyfit(right_lines_x, right_lines_y, 1)  # Values of m and b in the line y = m*x + b\n",
    "        else:\n",
    "            right_m, right_b = 1, 1\n",
    "            draw_right = False         \n",
    "        # Left lane lines\n",
    "        left_lines_x = []\n",
    "        left_lines_y = []\n",
    "        for line in left_lines:\n",
    "            x1, y1, x2, y2 = line[0]\n",
    "            left_lines_x.append(x1)#Adding the values in the array left_lines_x\n",
    "            left_lines_x.append(x2)#Adding the values in the array left_lines_x\n",
    "            left_lines_y.append(y1)#Adding the values in the array left_lines_y\n",
    "            left_lines_y.append(y2)#Adding the values in the array left_lines_x\n",
    "        if len(left_lines_x) > 0:\n",
    "            left_m, left_b = np.polyfit(left_lines_x, left_lines_y, 1)  #Values of m and b in the line y = m*x + b\n",
    "        else:\n",
    "            left_m, left_b = 1, 1\n",
    "            draw_left = False\n",
    "        \n",
    "        #Finding 2 end points for right and left lines, used for drawing the line\n",
    "        #Equation details y = m*x + b --> x = (y - b)/m\n",
    "        y1 = img.shape[0]\n",
    "        y2 = img.shape[0] * (1 - 0.4)\n",
    "        right_x1 = (y1 - right_b) / right_m\n",
    "        right_x2 = (y2 - right_b) / right_m\n",
    "        \n",
    "        left_x1 = (y1 - left_b) / left_m\n",
    "        left_x2 = (y2 - left_b) / left_m\n",
    "        \n",
    "        # Converting calculated end points from float to int\n",
    "        y1 = int(y1)\n",
    "        y2 = int(y2)\n",
    "        \n",
    "        right_x1 = int(right_x1)\n",
    "        right_x2 = int(right_x2)\n",
    "        \n",
    "        left_x1 = int(left_x1)\n",
    "        left_x2 = int(left_x2)\n",
    "        \n",
    "        # Drawing the right and left lines on the image\n",
    "        if draw_right:\n",
    "            right_line_image=cv2.line(img, (right_x1, y1), (right_x2, y2), color, thickness)\n",
    "        if draw_left:\n",
    "            left_line_image=cv2.line(img, (left_x1, y1), (left_x2, y2), color, thickness)\n",
    "        \n",
    "      \n",
    "        line_image = np.copy(img)\n",
    "        color_edges = np.dstack((gray,gray,gray))\n",
    "        \n",
    "        #Drawing the lines on the edge image\n",
    "        combo = cv2.addWeighted(color_edges,0.8,line_image,1,0) \n",
    "        \n",
    "        return combo\n",
    "     "
   ]
  },
  {
   "cell_type": "markdown",
   "metadata": {},
   "source": [
    "#### Processing Video Frames Function"
   ]
  },
  {
   "cell_type": "code",
   "execution_count": null,
   "metadata": {
    "collapsed": true
   },
   "outputs": [],
   "source": [
    "def image_processing(gray,frame):\n",
    "    blur_gray= G_blur(gray) #Gaussian blur function calling\n",
    "    edges=Canny(blur_gray) #Canny funcion calling\n",
    "    masked_edges=Mask(edges,gray)#Function Creating Masked Edges using Pollyfill technique and Converting video frame to edges\n",
    "    lines=Hough(masked_edges,frame,gray)#Function implementing hough transformation in openCV\n",
    "    \n",
    "    combo=draw_lines(frame,lines,(0,0,255),10,gray)\n",
    "         \n",
    "        \n",
    "    \n",
    "    \n",
    "    \n",
    "     \n",
    "        \n",
    "  \n",
    "    #iterating over the outline\n",
    " \n",
    "            \n",
    "    return combo"
   ]
  },
  {
   "cell_type": "markdown",
   "metadata": {},
   "source": [
    "#### Calling the main function to run the program "
   ]
  },
  {
   "cell_type": "markdown",
   "metadata": {},
   "source": [
    "### Reflections\n",
    "\n",
    "#### Current pipeline\n",
    "\n",
    "##### Currently, my pipeline is as follows:\n",
    "\n",
    "1] Asked For file to be processed from the user.Whether it is image or video file?\n",
    "2] After taking the input porcessing the  different files with different file type seperately.\n",
    "3] Processing image file type in [image_process()] function, which is performed under [image()] functions\n",
    "                                      or\n",
    "   Processing video file frame by frame in [image_processing()] function, which is performed under[video_compress()]function \n",
    "   where the process of video reading frame by frame is called and this [video_compress()] function is performed under [video()]\n",
    "   function.\n",
    "Note:- Video Works For all type of pictures.For more perform it on night video version\n",
    "\n",
    "#### Potential shortcomings\n",
    "Getting Lines drawn constantly on the lane lines, which consits of dots is the drawback in the code.\n",
    "\n",
    "#### Possible improvements\n",
    "Drawing Lane Line on unevenly distributed lane lines constantly on the video is possible scope of imporvement.\n",
    "Moreover,drawing lane lines on yellow line during night time is also possible scope of improvements"
   ]
  },
  {
   "cell_type": "code",
   "execution_count": null,
   "metadata": {},
   "outputs": [],
   "source": [
    "main() #Calling the main function"
   ]
  }
 ],
 "metadata": {
  "kernelspec": {
   "display_name": "Python 3",
   "language": "python",
   "name": "python3"
  },
  "language_info": {
   "codemirror_mode": {
    "name": "ipython",
    "version": 3
   },
   "file_extension": ".py",
   "mimetype": "text/x-python",
   "name": "python",
   "nbconvert_exporter": "python",
   "pygments_lexer": "ipython3",
   "version": "3.5.0"
  }
 },
 "nbformat": 4,
 "nbformat_minor": 2
}
