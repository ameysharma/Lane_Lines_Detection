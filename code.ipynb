{
 "cells": [
  {
   "cell_type": "raw",
   "metadata": {},
   "source": [
    "Importing Libraries"
   ]
  },
  {
   "cell_type": "code",
   "execution_count": 2,
   "metadata": {
    "collapsed": true
   },
   "outputs": [],
   "source": [
    "import matplotlib.pyplot as plt\n",
    "import matplotlib.image as mpimg\n",
    "import numpy as np\n",
    "import cv2\n",
    "import imutils\n",
    "from imutils.video import FPS\n"
   ]
  },
  {
   "cell_type": "code",
   "execution_count": 3,
   "metadata": {
    "collapsed": true
   },
   "outputs": [],
   "source": [
    "#Main function where all the  operations will be done."
   ]
  },
  {
   "cell_type": "code",
   "execution_count": 4,
   "metadata": {},
   "outputs": [],
   "source": [
    "def main():\n",
    "    value=input('Which file do you want to process for lane lines detection.Enter [image] for images and [video] for videos')\n",
    "    if (value=='image' or value=='IMAGE' or value=='Image'):\n",
    "        image()\n",
    "    elif(value=='video' or value=='VIDEO' or value=='Video'):\n",
    "        video()\n",
    "    else:\n",
    "        print('Wrong Input')\n",
    "        exit()\n",
    "    \n",
    "   "
   ]
  },
  {
   "cell_type": "code",
   "execution_count": 5,
   "metadata": {},
   "outputs": [],
   "source": [
    "def image():\n",
    "    image=collect_image()\n",
    "    if (image==0):\n",
    "        print('Wrong Input')\n",
    "        main()\n",
    "    image=mpimg.imread(image)\n",
    "    image=image_process(image)\n",
    "    plt.imshow(image)\n",
    "    plt.show()\n",
    "    main()"
   ]
  },
  {
   "cell_type": "code",
   "execution_count": 6,
   "metadata": {
    "collapsed": true
   },
   "outputs": [],
   "source": [
    "def image_process(image):\n",
    "    #GuassianBlur filter\n",
    "    gray=cv2.cvtColor(image,cv2.COLOR_RGB2GRAY)\n",
    "    kernel_size =5\n",
    "    blur_gray=cv2.GaussianBlur(gray,(kernel_size,kernel_size),0)\n",
    "    \n",
    "    #canny filter\n",
    "    \n",
    "    low_threshold =50\n",
    "    high_threshold =150\n",
    "    edges = cv2.Canny(blur_gray, low_threshold, high_threshold)\n",
    "    \n",
    "    #masking\n",
    "    mask = np.zeros_like(edges)   \n",
    "    ignore_mask_color = 255   \n",
    "   \n",
    "    imshape = image.shape\n",
    "    vertices = np.array([[(0,imshape[0]),(475,290), (490,290), (imshape[1],imshape[0])]], dtype=np.int32)\n",
    "    cv2.fillPoly(mask, vertices, ignore_mask_color)\n",
    "    masked_edges = cv2.bitwise_and(edges, mask)\n",
    "    #houghlines creation\n",
    "    rho = 1\n",
    "    theta = np.pi*2/180\n",
    "    threshold = 1\n",
    "    min_line_length = 10\n",
    "    max_line_gap = 2\n",
    "    line_image = np.copy(image)*0 \n",
    "    lines = cv2.HoughLinesP(masked_edges, rho, theta, threshold, np.array([]),\n",
    "                            min_line_length, max_line_gap)\n",
    "    #iterating over the outline\n",
    "    for lines in lines:\n",
    "        for x1,y1,x2,y2 in lines:\n",
    "            cv2.line(line_image,(x1,y1),(x2,y2),(255,0,0),10)\n",
    "            #creating color binary image to combine with \n",
    "    color_edges = np.dstack((gray, gray, gray)) \n",
    "    #Drawing the lines on the edge image\n",
    "    combo = cv2.addWeighted(color_edges, 0.8, line_image, 1, 0) \n",
    "    return combo"
   ]
  },
  {
   "cell_type": "code",
   "execution_count": 7,
   "metadata": {},
   "outputs": [],
   "source": [
    "def collect_image():\n",
    "    path1='/Users/ameyr/OneDrive/Documents/GitHub/Lane_Lines_Detection/test_images\\solidWhiteCurve.jpg'\n",
    "    path2='/Users/ameyr/OneDrive/Documents/GitHub/Lane_Lines_Detection/test_images\\solidWhiteRight.jpg'\n",
    "    path3='/Users/ameyr/OneDrive/Documents/GitHub/Lane_Lines_Detection/test_images\\solidYellowCurve.jpg'\n",
    "    path4='/Users/ameyr/OneDrive/Documents/GitHub/Lane_Lines_Detection/test_images\\solidYellowCurve2.jpg'\n",
    "    path5='/Users/ameyr/OneDrive/Documents/GitHub/Lane_Lines_Detection/test_images\\solidYellowLeft.jpg'\n",
    "    path6='/Users/ameyr/OneDrive/Documents/GitHub/Lane_Lines_Detection/test_images\\whiteCarLaneSwitch.jpg'\n",
    "    \n",
    "    value= input('Choose image file from 1 to 6 or input your own file path')\n",
    "    \n",
    "    if (value=='1'):\n",
    "        return path1\n",
    "    elif(value=='2'):\n",
    "        return path2\n",
    "    elif(value=='3'):\n",
    "        return path3\n",
    "    elif(value=='4'):\n",
    "        return path4\n",
    "    elif(value=='5'):\n",
    "        return path5\n",
    "    elif(value=='6'):\n",
    "        return path6\n",
    "    else:\n",
    "        return 0\n",
    "  \n",
    "                \n",
    "    "
   ]
  },
  {
   "cell_type": "code",
   "execution_count": 8,
   "metadata": {},
   "outputs": [],
   "source": [
    "def video():\n",
    "    video = collect_video()#function that collect videos\n",
    "    if (video==0):\n",
    "        print(\"Sorry wrong input\")\n",
    "    else:\n",
    "        video=video_compress(video)\n",
    "        cv2.destroyAllWindows()\n",
    "        main()\n",
    "        \n",
    "        \n",
    "    \n",
    "   \n",
    "    "
   ]
  },
  {
   "cell_type": "code",
   "execution_count": 9,
   "metadata": {
    "collapsed": true
   },
   "outputs": [],
   "source": [
    "def collect_video():\n",
    "    path1='/Users/ameyr/OneDrive/Documents/GitHub/Lane_Lines_Detection/test_videos/challenge.mp4'\n",
    "    path2='/Users/ameyr/OneDrive/Documents/GitHub/Lane_Lines_Detection/test_videos/solidWhiteRight.mp4'\n",
    "    path3='/Users/ameyr/OneDrive/Documents/GitHub/Lane_Lines_Detection/test_videos/solidYellowLeft.mp4'\n",
    "    print('Following Videos are available.\\n' 'Video-Challenge('+ path1 +')\\nVideo-Solid White Right('+path2+ \\\n",
    "          ')\\nVideo-Solid Yellow Left('+path3+')')\n",
    "    value=input('Choose video in the following format in the form of input one,two,three')\n",
    "    if (value=='one'):\n",
    "        return path1\n",
    "    elif(value=='two'):\n",
    "        return path2\n",
    "    elif(value=='three'):\n",
    "        return path3\n",
    "    else:\n",
    "        return 0\n",
    "  \n",
    "    "
   ]
  },
  {
   "cell_type": "code",
   "execution_count": 10,
   "metadata": {
    "collapsed": true
   },
   "outputs": [],
   "source": [
    "def video_compress(video):\n",
    "    video = cv2.VideoCapture(video)\n",
    "       \n",
    "    video.set(3,320)\n",
    "    video.set(4,240)\n",
    "    # loop over frames from the video file stream\n",
    "    while(video.isOpened()):\n",
    "        # grab the frame from the threaded video file stream\n",
    "        (grabbed, frame) = video.read()\n",
    "        # if the frame was not grabbed, then we have reached the end of the stream\n",
    "        if (grabbed==0):\n",
    "            break\n",
    "            \n",
    "        gray = cv2.cvtColor(frame, cv2.COLOR_BGR2GRAY)\n",
    "        #Processing video function calling\n",
    "        value = image_processing(gray,frame)\n",
    "        \n",
    "        cv2.imshow('compressed',value)\n",
    "        key_pressed =cv2.waitKey(1)\n",
    "        if key_pressed == 27:\n",
    "            break\n",
    "    cv2.destroyAllWindows()             \n",
    "    return value\n",
    "      \n",
    "       \n",
    "        \n",
    "    "
   ]
  },
  {
   "cell_type": "code",
   "execution_count": 11,
   "metadata": {
    "collapsed": true
   },
   "outputs": [],
   "source": [
    "def G_blur(gray):\n",
    "    kernel_size=5\n",
    "    blur_gray=cv2.GaussianBlur(gray,(kernel_size,kernel_size),0)\n",
    "    return blur_gray"
   ]
  },
  {
   "cell_type": "code",
   "execution_count": 12,
   "metadata": {
    "collapsed": true
   },
   "outputs": [],
   "source": [
    "def Canny(blur_gray):\n",
    "    low_threshold =50\n",
    "    high_threshold =150\n",
    "    edges = cv2.Canny(blur_gray, low_threshold, high_threshold)\n",
    "    return edges\n",
    "    "
   ]
  },
  {
   "cell_type": "code",
   "execution_count": 13,
   "metadata": {
    "collapsed": true
   },
   "outputs": [],
   "source": [
    "def Mask(edges,gray):\n",
    "    mask = np.zeros_like(edges)\n",
    "    ignore_mask_color = 255\n",
    "    # This time we are defining a four sided polygon to mask\n",
    "    imshape = gray.shape\n",
    "    vertices = np.array([[(100,imshape[0]),(470,300), (480,300), (imshape[1],imshape[0])]], dtype=np.int32)\n",
    "    cv2.fillPoly(mask, vertices, ignore_mask_color)\n",
    "    masked_edges = cv2.bitwise_and(edges, mask)\n",
    "    return masked_edges\n",
    " \n",
    "    "
   ]
  },
  {
   "cell_type": "code",
   "execution_count": 14,
   "metadata": {
    "collapsed": true
   },
   "outputs": [],
   "source": [
    "def Hough(masked_edges,frame):\n",
    "    rho = 1\n",
    "    theta = np.pi*2/180\n",
    "    threshold = 1\n",
    "    min_line_length = 10\n",
    "    max_line_gap = 2\n",
    "    line_image = np.copy(frame)*0\n",
    "    lines = cv2.HoughLinesP(masked_edges, rho, theta, threshold, np.array([]),\n",
    "                            min_line_length, max_line_gap)\n",
    "    return lines"
   ]
  },
  {
   "cell_type": "code",
   "execution_count": null,
   "metadata": {
    "collapsed": true
   },
   "outputs": [],
   "source": [
    "def image_processing(gray,frame):\n",
    "    blur_gray= G_blur(gray) #Gaussian blur function calling\n",
    "    edges=Canny(blur_gray) #Canny funcion calling\n",
    "    masked_edges=Mask(edges,gray)#Function Creating Masked Edges using Pollyfill technique and Converting video frame to edges\n",
    "    lines=Hough(masked_edges,frame) #Function implementing hough transformation in openCV\n",
    "    \n",
    "    line_image = np.copy(frame)*0\n",
    "    \n",
    "    \n",
    "    #iterating over the outline\n",
    "    for lines in lines:\n",
    "        for x1,y1,x2,y2 in lines:\n",
    "            cv2.line(line_image,(x1,y1),(x2,y2),(0,0,255),10)\n",
    "            #creating color binary image to combine with\n",
    "    color_edges = np.dstack((gray, gray, gray))\n",
    "    #Drawing the lines on the edge image\n",
    "    combo = cv2.addWeighted(color_edges, 0.8, line_image, 1, 0) \n",
    "            \n",
    "    return combo"
   ]
  },
  {
   "cell_type": "code",
   "execution_count": null,
   "metadata": {},
   "outputs": [
    {
     "name": "stdout",
     "output_type": "stream",
     "text": [
      "Which file do you want to process for lane lines detection.Enter [image] for images and [video] for videosvideo\n",
      "Following Videos are available.\n",
      "Video-Challenge(/Users/ameyr/OneDrive/Documents/GitHub/Lane_Lines_Detection/test_videos/challenge.mp4)\n",
      "Video-Solid White Right(/Users/ameyr/OneDrive/Documents/GitHub/Lane_Lines_Detection/test_videos/solidWhiteRight.mp4)\n",
      "Video-Solid Yellow Left(/Users/ameyr/OneDrive/Documents/GitHub/Lane_Lines_Detection/test_videos/solidYellowLeft.mp4)\n",
      "Choose video in the following format in the form of input one,two,threeone\n"
     ]
    }
   ],
   "source": [
    "main()# run the programme"
   ]
  }
 ],
 "metadata": {
  "kernelspec": {
   "display_name": "Python 3",
   "language": "python",
   "name": "python3"
  },
  "language_info": {
   "codemirror_mode": {
    "name": "ipython",
    "version": 3
   },
   "file_extension": ".py",
   "mimetype": "text/x-python",
   "name": "python",
   "nbconvert_exporter": "python",
   "pygments_lexer": "ipython3",
   "version": "3.5.0"
  }
 },
 "nbformat": 4,
 "nbformat_minor": 2
}
